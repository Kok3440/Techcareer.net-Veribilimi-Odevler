{
  "nbformat": 4,
  "nbformat_minor": 0,
  "metadata": {
    "colab": {
      "provenance": []
    },
    "kernelspec": {
      "name": "python3",
      "display_name": "Python 3"
    },
    "language_info": {
      "name": "python"
    }
  },
  "cells": [
    {
      "cell_type": "code",
      "execution_count": 9,
      "metadata": {
        "colab": {
          "base_uri": "https://localhost:8080/"
        },
        "id": "y3SmktU4z7wt",
        "outputId": "b6b9daf6-e854-436d-a0b0-c69df129db07"
      },
      "outputs": [
        {
          "output_type": "stream",
          "name": "stdout",
          "text": [
            "Bir sayı giriniz: -64\n",
            "Negatif Çift\n"
          ]
        }
      ],
      "source": [
        "# Soru 1 – Sayı Analizi\n",
        "# Kullanıcıdan bir sayı isteyin.\n",
        "# • Sayı pozitif, negatif ya da sıfır mı kontrol edin.\n",
        "# • Aynı zamanda tek/çift olup olmadığını da belirtin.\n",
        "# • Çıktı örneği: \"Pozitif Çift\" veya \"Negatif Tek\" gibi.\n",
        "\n",
        "sayi=int(input(\"Bir sayı giriniz: \"))\n",
        "\n",
        "def kontrol(sayi):\n",
        "  pozitif_mi=sayi>0\n",
        "  negatif_mi=sayi<0\n",
        "  sıfır_mi=sayi==0\n",
        "  tek_mi=sayi%2==1\n",
        "  çift_mi=sayi%2==0\n",
        "\n",
        "  if pozitif_mi==True and çift_mi==True:\n",
        "    print(\"Pozitif Çift\")\n",
        "  elif pozitif_mi==True and tek_mi==True:\n",
        "    print(\"Pozitif Tek\")\n",
        "  elif negatif_mi==True and çift_mi==True:\n",
        "    print(\"Negatif Çift\")\n",
        "  elif negatif_mi==True and tek_mi==True:\n",
        "    print(\"Negatif Tek\")\n",
        "  else:\n",
        "    print(\"Sıfır\")\n",
        "\n",
        "kontrol(sayi)\n"
      ]
    },
    {
      "cell_type": "code",
      "source": [
        "# Soru 2 – Harf Frekansı (String)\n",
        "# Kullanıcıdan bir kelime alın.\n",
        "# • Hangi harften kaç tane geçtiğini bulun.\n",
        "# • Sonucu dictionary olarak gösterin.\n",
        "# Örnek: \"data\" → {'d': 1, 'a': 2, 't': 1}\n",
        "\n",
        "kelime=input(\"Bir kelime giriniz: \")\n",
        "\n",
        "def harf_frekansı(kelime):\n",
        "  harf_frekansı={}\n",
        "  for harf in kelime:\n",
        "    if harf in harf_frekansı:\n",
        "      harf_frekansı[harf]+=1\n",
        "\n",
        "    else:\n",
        "      harf_frekansı[harf]=1\n",
        "\n",
        "  print(harf_frekansı)\n",
        "\n",
        "\n",
        "\n",
        "harf_frekansı(kelime)\n"
      ],
      "metadata": {
        "colab": {
          "base_uri": "https://localhost:8080/"
        },
        "id": "MaYchihR1rxr",
        "outputId": "95f0a19d-d88c-43b4-a742-5cde25cf1fc9"
      },
      "execution_count": 15,
      "outputs": [
        {
          "output_type": "stream",
          "name": "stdout",
          "text": [
            "Bir kelime giriniz: evet\n",
            "{'e': 2, 'v': 1, 't': 1}\n"
          ]
        }
      ]
    },
    {
      "cell_type": "code",
      "source": [
        "# Soru 3 – Şifre Kontrolü (String Metotları)\n",
        "# Kullanıcıdan şifre girmesini isteyin. Şifre:\n",
        "# • En az 8 karakter olmalı\n",
        "# • En az 1 büyük harf içermeli\n",
        "# • En az 1 rakam içermeli\n",
        "# Koşulları sağlayıp sağlamadığına göre kullanıcıyı bilgilendirin.\n",
        "print(\"Şifrenizin kabul edilebilir olması için: \\n • En az 8 karakter olmalı \\n • En az 1 büyük harf içermeli \\n • En az 1 rakam içermeli \")\n",
        "sifre=input(\"Lütfen şifrenizi giriniz:\")\n",
        "\n",
        "def sifre_kontrol(sifre):\n",
        "  karakter=len(sifre)>=8\n",
        "  buyuk_harf=any(harf.isupper() for harf in sifre)\n",
        "  rakam=any(harf.isdigit() for harf in sifre)\n",
        "\n",
        "  if karakter==True and buyuk_harf==True and rakam==True:\n",
        "    print(\"Şifre kabul edildi.\")\n",
        "  elif karakter==False:\n",
        "    print(\"Şifreniz en az 8 karakter olmalıdır.\")\n",
        "  elif buyuk_harf==False:\n",
        "    print(\"Şifreniz en az 1 büyük harf içermelidir.\")\n",
        "  elif rakam==False:\n",
        "    print(\"Şifreniz en az 1 rakam içermelidir.\")\n",
        "  else:\n",
        "    print(\"Şifre kabul edilemez.\")\n",
        "\n",
        "sifre_kontrol(sifre)"
      ],
      "metadata": {
        "colab": {
          "base_uri": "https://localhost:8080/"
        },
        "id": "wzrQ4ujI2-gA",
        "outputId": "d27a6e04-9396-490c-8937-8e4d02764303"
      },
      "execution_count": 23,
      "outputs": [
        {
          "output_type": "stream",
          "name": "stdout",
          "text": [
            "Şifrenizin kabul edilebilir olması için: \n",
            " • En az 8 karakter olmalı \n",
            " • En az 1 büyük harf içermeli \n",
            " • En az 1 rakam içermeli \n",
            "Lütfen şifrenizi giriniz:mamut12ğ\n",
            "Şifreniz en az 1 büyük harf içermelidir.\n"
          ]
        }
      ]
    },
    {
      "cell_type": "code",
      "source": [
        "# Soru 4 – Liste İşlemleri\n",
        "# [12, 4, 9, 25, 30, 7, 18] listesini kullanın.\n",
        "# • Listenin ortalamasını bulun.\n",
        "# • Ortalamadan büyük sayıları ayrı bir listeye atın.\n",
        "# • Sonucu ekrana yazdırın.\n",
        "\n",
        "liste=[12, 4, 9, 25, 30, 7, 18]\n",
        "\n",
        "def islem(liste):\n",
        "  yeni_liste=[]\n",
        "  ortalama=sum(liste)/len(liste)\n",
        "  for sayi in liste:\n",
        "    if sayi>ortalama:\n",
        "      yeni_liste.append(sayi)\n",
        "  print(ortalama)\n",
        "  print(yeni_liste)\n",
        "\n",
        "islem(liste)\n"
      ],
      "metadata": {
        "colab": {
          "base_uri": "https://localhost:8080/"
        },
        "id": "CWYeV6Cd598v",
        "outputId": "45889012-907d-490e-a37d-252f90d560ed"
      },
      "execution_count": 26,
      "outputs": [
        {
          "output_type": "stream",
          "name": "stdout",
          "text": [
            "15.0\n",
            "[25, 30, 18]\n"
          ]
        }
      ]
    },
    {
      "cell_type": "code",
      "source": [
        "#Soru 5 – Nested Loop (Desen)\n",
        "# Aşağıdaki çıktıyı üreten programı yazın (üçgen desen):\n",
        "\n",
        "for i in range(0,5):\n",
        "  for j in range(0,i+1):\n",
        "    print(\"*\" ,end=\"  \")\n",
        "  print()\n"
      ],
      "metadata": {
        "colab": {
          "base_uri": "https://localhost:8080/"
        },
        "id": "PToyO5_x836r",
        "outputId": "d7d8b6f5-703e-4cfa-c14e-14bcacc67e25"
      },
      "execution_count": 31,
      "outputs": [
        {
          "output_type": "stream",
          "name": "stdout",
          "text": [
            "*  \n",
            "*  *  \n",
            "*  *  *  \n",
            "*  *  *  *  \n",
            "*  *  *  *  *  \n"
          ]
        }
      ]
    },
    {
      "cell_type": "code",
      "source": [
        "# Soru 6 – While Döngüsü\n",
        "# Kullanıcıdan sürekli sayı isteyin.\n",
        "# • Kullanıcı 0 girdiğinde program dursun.\n",
        "# • Girilen tüm sayıların toplamını ve ortalamasını yazdırın.\n",
        "\n",
        "sayilar = []\n",
        "while True:\n",
        "  sayi = int(input(\"Sayı giriniz: \"))\n",
        "  if sayi == 0:\n",
        "    break\n",
        "  sayilar.append(sayi)\n",
        "\n",
        "if len(sayilar) > 0:\n",
        "  toplam = sum(sayilar)\n",
        "  ortalama = toplam / len(sayilar)\n",
        "  print(\"Girilen sayılar:\", sayilar)\n",
        "  print(\"Girilen sayıların toplamı:\", toplam)\n",
        "  print(\"Girilen sayıların ortalaması:\", ortalama)\n",
        "else:\n",
        "  print(\"Hiç sayı girilmedi.\")"
      ],
      "metadata": {
        "colab": {
          "base_uri": "https://localhost:8080/"
        },
        "id": "Rl90oRD69tEg",
        "outputId": "e50258d5-02d5-412b-b367-27c8508a4459"
      },
      "execution_count": 62,
      "outputs": [
        {
          "output_type": "stream",
          "name": "stdout",
          "text": [
            "Sayı giriniz: 5\n",
            "Sayı giriniz: 6\n",
            "Sayı giriniz: 7\n",
            "Sayı giriniz: 8\n",
            "Sayı giriniz: 9\n",
            "Sayı giriniz: 10\n",
            "Sayı giriniz: 11\n",
            "Sayı giriniz: 23\n",
            "Sayı giriniz: 0\n",
            "Girilen sayılar: [5, 6, 7, 8, 9, 10, 11, 23]\n",
            "Girilen sayıların toplamı: 79\n",
            "Girilen sayıların ortalaması: 9.875\n"
          ]
        }
      ]
    },
    {
      "cell_type": "code",
      "source": [
        "# Soru 7 – Palindrom Kontrolü\n",
        "# Kullanıcıdan bir kelime isteyin.\n",
        "# • Kelimenin palindrom olup olmadığını kontrol edin.\n",
        "# • Örnek: \"kayak\" → Palindrom , \"python\" → Değil\n",
        "\n",
        "sayi=int(input(\"Bir sayı giriniz: \"))\n",
        "\n",
        "def palindrome(sayi):\n",
        "  donustur=str(sayi)\n",
        "  ters=donustur[::-1]\n",
        "  if donustur==ters:\n",
        "    print(\"Palindrome\")\n",
        "  else:\n",
        "    print(\"Palindrome değil\")\n",
        "\n",
        "palindrome(sayi)"
      ],
      "metadata": {
        "colab": {
          "base_uri": "https://localhost:8080/"
        },
        "id": "eaVh4AfP_NV1",
        "outputId": "b20cd7cd-fb8b-4666-93ab-17579d586cb3"
      },
      "execution_count": 57,
      "outputs": [
        {
          "output_type": "stream",
          "name": "stdout",
          "text": [
            "Bir sayı giriniz: 223\n",
            "Palindrome değil\n"
          ]
        }
      ]
    },
    {
      "cell_type": "code",
      "source": [
        "# Soru 8 – List Comprehension\n",
        "# 1’den 100’e kadar olan sayılardan:\n",
        "# • Hem 3’e hem 5’e bölünebilenlerin karelerini içeren bir liste oluşturun.\n",
        "# • Sonucu ekrana yazdırın.\n",
        "liste=[]\n",
        "for i in range(1,101):\n",
        "  if i%3==0 and i%5==0:\n",
        "    liste.append(i**2)\n",
        "print(liste)\n"
      ],
      "metadata": {
        "colab": {
          "base_uri": "https://localhost:8080/"
        },
        "id": "XjDeg-SVCxMO",
        "outputId": "afd2b496-fca6-443a-87a4-eba2d526fc83"
      },
      "execution_count": 59,
      "outputs": [
        {
          "output_type": "stream",
          "name": "stdout",
          "text": [
            "[225, 900, 2025, 3600, 5625, 8100]\n"
          ]
        }
      ]
    },
    {
      "cell_type": "code",
      "source": [
        "# Soru 9 – String İşlemleri\n",
        "# Bir cümle alın.\n",
        "# • Cümledeki kelimeleri split() ile ayırın.\n",
        "# • Her kelimenin ilk harfini büyük yaparak yeni bir string oluşturun.\n",
        "# • Örnek: \"python veri bilimi\" → \"Python Veri Bilimi\"\n",
        "\n",
        "kelime=input(\"Bir cümle Girin\")\n",
        "\n",
        "def büyük(kelime):\n",
        "  kelimeler=kelime.split()\n",
        "  yeni_kelime=\"\"\n",
        "  for kelime in kelimeler:\n",
        "    yeni_kelime+=kelime[0].upper()+kelime[1:]+\" \"\n",
        "  print(yeni_kelime)\n",
        "\n",
        "büyük(kelime)\n"
      ],
      "metadata": {
        "colab": {
          "base_uri": "https://localhost:8080/"
        },
        "id": "fzcLZnb3DhvJ",
        "outputId": "213ac8ae-a699-4b79-f42a-82df782d0682"
      },
      "execution_count": 61,
      "outputs": [
        {
          "output_type": "stream",
          "name": "stdout",
          "text": [
            "Bir cümle Girinpython veri bilimi\n",
            "Python Veri Bilimi \n"
          ]
        }
      ]
    },
    {
      "cell_type": "code",
      "source": [
        "# Mini Proje – Film Yorumu Analizi\n",
        "# Proje Tanımı:\n",
        "# Kullanıcıdan birkaç film yorumu alın (örneğin 5–6 yorum).\n",
        "# - Yorumları bir listeye atın.\n",
        "# - Her yorumun uzunluğunu (karakter sayısı) bulun.\n",
        "# - Kaç yorumda \"iyi\" kelimesi geçtiğini sayın.\n",
        "# - En uzun yorumu ve en kısa yorumu ekrana yazdırın.\n",
        "# - Tüm yorumların ortalama uzunluğunu hesaplayın.\n",
        "\n",
        "yorumlar = []\n",
        "\n",
        "while True:\n",
        "  yorum = input(\"Lütfen Film Hakkında yorumunuzu girin, eğer yorumlarınızı sonlandırmak istiyorsanız lütfen '0' Tuşlayın: \")\n",
        "  if yorum == \"0\":\n",
        "    break\n",
        "  yorumlar.append(yorum)\n",
        "\n",
        "\n",
        "if yorumlar:\n",
        "\n",
        "  yorum_uzunluklari = [len(yorum) for yorum in yorumlar]\n",
        "\n",
        "\n",
        "  iyi_sayisi = sum(1 for yorum in yorumlar if \"iyi\" in yorum.lower())\n",
        "\n",
        "  en_uzun_yorum = max(yorumlar, key=len)\n",
        "  en_kisa_yorum = min(yorumlar, key=len)\n",
        "\n",
        "\n",
        "  ortalama_uzunluk = sum(yorum_uzunluklari) / len(yorumlar)\n",
        "\n",
        "  print(\"\\n--- Yorum Analizi Sonuçları ---\")\n",
        "  print(\"Girilen yorumlar:\", yorumlar)\n",
        "  print(\"Yorumların uzunlukları:\", yorum_uzunluklari)\n",
        "  print(\"Toplam 'iyi' içeren yorum sayısı:\", iyi_sayisi)\n",
        "  print(\"En uzun yorum:\", en_uzun_yorum)\n",
        "  print(\"En kısa yorum:\", en_kisa_yorum)\n",
        "  print(\"Ortalama yorum uzunluğu:\", ortalama_uzunluk)\n",
        "else:\n",
        "  print(\"Hiç yorum girilmedi.\")"
      ],
      "metadata": {
        "colab": {
          "base_uri": "https://localhost:8080/"
        },
        "id": "Li2brbsSEfH5",
        "outputId": "c5a17c9d-91cc-43aa-8ff3-8a3921640d7c"
      },
      "execution_count": 68,
      "outputs": [
        {
          "output_type": "stream",
          "name": "stdout",
          "text": [
            "Lütfen Film Hakkında yorumunuzu girin, eğer yorumlarınızı sonlandırmak istiyorsanız lütfen '0' Tuşlayın: iyi\n",
            "Lütfen Film Hakkında yorumunuzu girin, eğer yorumlarınızı sonlandırmak istiyorsanız lütfen '0' Tuşlayın: çok iyi\n",
            "Lütfen Film Hakkında yorumunuzu girin, eğer yorumlarınızı sonlandırmak istiyorsanız lütfen '0' Tuşlayın: muhteşem iyi\n",
            "Lütfen Film Hakkında yorumunuzu girin, eğer yorumlarınızı sonlandırmak istiyorsanız lütfen '0' Tuşlayın: muhteşem\n",
            "Lütfen Film Hakkında yorumunuzu girin, eğer yorumlarınızı sonlandırmak istiyorsanız lütfen '0' Tuşlayın: berbat\n",
            "Lütfen Film Hakkında yorumunuzu girin, eğer yorumlarınızı sonlandırmak istiyorsanız lütfen '0' Tuşlayın: kötünün iyisi\n",
            "Lütfen Film Hakkında yorumunuzu girin, eğer yorumlarınızı sonlandırmak istiyorsanız lütfen '0' Tuşlayın: fena değil\n",
            "Lütfen Film Hakkında yorumunuzu girin, eğer yorumlarınızı sonlandırmak istiyorsanız lütfen '0' Tuşlayın: fenasal iyi\n",
            "Lütfen Film Hakkında yorumunuzu girin, eğer yorumlarınızı sonlandırmak istiyorsanız lütfen '0' Tuşlayın: 0\n",
            "\n",
            "--- Yorum Analizi Sonuçları ---\n",
            "Girilen yorumlar: ['iyi', 'çok iyi', 'muhteşem iyi', 'muhteşem', 'berbat', 'kötünün iyisi', 'fena değil', 'fenasal iyi']\n",
            "Yorumların uzunlukları: [3, 7, 12, 8, 6, 13, 10, 11]\n",
            "Toplam 'iyi' içeren yorum sayısı: 5\n",
            "En uzun yorum: kötünün iyisi\n",
            "En kısa yorum: iyi\n",
            "Ortalama yorum uzunluğu: 8.75\n"
          ]
        }
      ]
    },
    {
      "cell_type": "code",
      "source": [],
      "metadata": {
        "id": "6S4n4K5-IZJd"
      },
      "execution_count": null,
      "outputs": []
    }
  ]
}
