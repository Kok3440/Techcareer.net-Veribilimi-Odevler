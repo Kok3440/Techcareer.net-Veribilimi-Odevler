{
  "nbformat": 4,
  "nbformat_minor": 0,
  "metadata": {
    "colab": {
      "provenance": []
    },
    "kernelspec": {
      "name": "python3",
      "display_name": "Python 3"
    },
    "language_info": {
      "name": "python"
    }
  },
  "cells": [
    {
      "cell_type": "code",
      "execution_count": null,
      "metadata": {
        "id": "UuKQYQNTdXG-",
        "colab": {
          "base_uri": "https://localhost:8080/"
        },
        "outputId": "f5829749-1440-4497-8cda-5ba984e4b818"
      },
      "outputs": [
        {
          "output_type": "stream",
          "name": "stdout",
          "text": [
            "En yüksek not: 100\n",
            "En düşük not: 76\n",
            "[76, 85, 92, 100]\n"
          ]
        }
      ],
      "source": [
        "# Soru 1 – Liste Metotları\n",
        "# Bir sınıfta öğrencilerin notları şu şekilde tutuluyor:\n",
        "# notlar = [85, 92, 76, 92, 100, 76, 85, 92]\n",
        "# • Listedeki tekrar eden notları silip benzersiz bir liste oluşturun.\n",
        "# • En yüksek ve en düşük notu bulun.\n",
        "# • Notları küçükten büyüğe sıralayın.\n",
        "\n",
        "notlar = [85, 92, 76, 92, 100, 76, 85, 92]\n",
        "\n",
        "def liste (input_list):\n",
        "    unique_list = list(set(input_list))\n",
        "    unique_list.sort()\n",
        "    print(\"En yüksek not:\", unique_list[-1])\n",
        "    print(\"En düşük not:\", unique_list[0])\n",
        "    return unique_list\n",
        "\n",
        "print(liste(notlar))\n"
      ]
    },
    {
      "cell_type": "code",
      "source": [
        "# Soru 2 – Sayılar\n",
        "# Bir sayının Armstrong sayısı olup olmadığını kontrol eden bir Python fonksiyonu yazın.\n",
        "# Armstrong sayısı: Her basamağının küplerinin toplamı kendisine eşit olan sayılar.\n",
        "# 153\n",
        "sayı = int(input(\"Sayıyı giriniz: \"))\n",
        "\n",
        "def armstrong (sayı):\n",
        "  basamak=len(str(sayı))\n",
        "  toplam=0\n",
        "  for i in range(basamak):\n",
        "    toplam+=int(str(sayı)[i])**basamak\n",
        "  if toplam==sayı:\n",
        "    print(\"Armstrong sayısıdır.\")\n",
        "  else:\n",
        "    print(\"Armstrong sayısı değildir.\")\n",
        "\n",
        "armstrong(sayı)\n",
        "\n"
      ],
      "metadata": {
        "colab": {
          "base_uri": "https://localhost:8080/"
        },
        "id": "IKrMZt3NAhBP",
        "outputId": "dc884a6b-2101-4e5e-e906-305830a8c408"
      },
      "execution_count": null,
      "outputs": [
        {
          "output_type": "stream",
          "name": "stdout",
          "text": [
            "Sayıyı giriniz: 253\n",
            "Armstrong sayısı değildir.\n"
          ]
        }
      ]
    },
    {
      "cell_type": "code",
      "source": [
        "# Soru 3 – Kümeler\n",
        "# Aşağıdaki iki küme verilmiştir:\n",
        "# A = {\"Python\", \"R\", \"SQL\", \"Java\"}\n",
        "# B = {\"C++\", \"Python\", \"JavaScript\", \"SQL\"}\n",
        "# • Ortak dilleri bulun.\n",
        "# • Sadece A’da olan dilleri listeleyin.\n",
        "# • İki kümenin birleşimini alfabetik olarak yazdırın.\n",
        "\n",
        "A = {\"Python\", \"R\", \"SQL\", \"Java\"}\n",
        "B = {\"C++\", \"Python\", \"JavaScript\", \"SQL\"}\n",
        "\n",
        "def listeler(input_dictiniory1,input_dictiniory2):\n",
        "  print(\"Ortak diller:\", input_dictiniory1.intersection(input_dictiniory2))\n",
        "  print(\"Sadece A'da olan diller:\", input_dictiniory1.difference(input_dictiniory2))\n",
        "  print(\"Sadece B'de olan diller:\", input_dictiniory2.difference(input_dictiniory1))\n",
        "  print(\"İki kümenin birleşimleri:\", input_dictiniory1.union(input_dictiniory2))\n",
        "\n",
        "listeler(A,B)"
      ],
      "metadata": {
        "colab": {
          "base_uri": "https://localhost:8080/"
        },
        "id": "3jwzCRiwB-iY",
        "outputId": "006709f3-79b1-4126-d582-fdd0fbf8411d"
      },
      "execution_count": null,
      "outputs": [
        {
          "output_type": "stream",
          "name": "stdout",
          "text": [
            "Ortak diller: {'SQL', 'Python'}\n",
            "Sadece A'da olan diller: {'R', 'Java'}\n",
            "Sadece B'de olan diller: {'C++', 'JavaScript'}\n",
            "İki kümenin birleşimleri: {'C++', 'Java', 'R', 'SQL', 'Python', 'JavaScript'}\n"
          ]
        }
      ]
    },
    {
      "cell_type": "code",
      "source": [
        "# Soru 4 – Modüller\n",
        "# • random modülünü kullanarak 1–100 arasında 10 rastgele sayı üretin.\n",
        "# • Bu sayıların ortalamasını ve standart sapmasını statistics modülü ile hesaplayın.\n",
        "\n",
        "import random\n",
        "\n",
        "rastgele_sayılar = [random.randint(1, 100) for _ in range(10)]\n",
        "print(rastgele_sayılar)\n",
        "\n",
        "import statistics\n",
        "\n",
        "ortalama = statistics.mean(rastgele_sayılar)\n",
        "standart_sapma = statistics.stdev(rastgele_sayılar)\n",
        "\n",
        "print(\"Ortalama:\", ortalama)\n",
        "print(\"Standart Sapma:\", standart_sapma)"
      ],
      "metadata": {
        "colab": {
          "base_uri": "https://localhost:8080/"
        },
        "id": "hLkCNtrrDuX5",
        "outputId": "f960b3d5-f372-418c-d57e-05178a07aa83"
      },
      "execution_count": null,
      "outputs": [
        {
          "output_type": "stream",
          "name": "stdout",
          "text": [
            "[48, 77, 69, 17, 27, 41, 66, 26, 47, 93]\n",
            "Ortalama: 51.1\n",
            "Standart Sapma: 24.655177504487323\n"
          ]
        }
      ]
    },
    {
      "cell_type": "code",
      "source": [
        "# Soru 5 – Fonksiyonlar\n",
        "# kelime_sayacı(metin) adında bir fonksiyon yazın.\n",
        "# Fonksiyon verilen metindeki:\n",
        "# • toplam kelime sayısını\n",
        "# • en uzun kelimeyi\n",
        "# • en sık geçen kelimeyi döndürsün.\n",
        "\n",
        "\n",
        "\n",
        "\n",
        "metin = \"Lorem ipsum dolor sit amet, consectetur adipiscing elit, sed do eiusmod tempor incididunt ut labore et dolore magna aliqua. Ut enim ad minim veniam, quis nostrud exercitation ullamco laboris nisi ut aliquip ex ea commodo consequat. Duis aute irure dolor in reprehenderit in voluptate velit esse cillum dolore eu fugiat nulla pariatur. Excepteur sint occaecat cupidatat non proident, sunt in culpa qui officia deserunt mollit anim id est laborum.\"\n",
        "\n",
        "\n",
        "def kelime_sayacı(metin):\n",
        "    kelimeler = metin.split()\n",
        "    toplam_kelime_sayısı = len(kelimeler)\n",
        "    print(\"Toplam kelime sayısı:\", toplam_kelime_sayısı)\n",
        "\n",
        "    en_uzun_kelime = max(kelimeler, key=len)\n",
        "    print(\"En uzun kelime:\", en_uzun_kelime)\n",
        "\n",
        "    kelime_frekansı = {}\n",
        "    for kelime in kelimeler:\n",
        "        if kelime in kelime_frekansı:\n",
        "            kelime_frekansı[kelime] += 1\n",
        "        else:\n",
        "            kelime_frekansı[kelime] = 1\n",
        "    en_cok_geçen_kelime = max(kelime_frekansı, key=kelime_frekansı.get)\n",
        "    print(\"En sık geçen kelime:\", en_cok_geçen_kelime)\n",
        "\n",
        "kelime_sayacı(metin)\n"
      ],
      "metadata": {
        "colab": {
          "base_uri": "https://localhost:8080/"
        },
        "id": "NSzihpvWElHt",
        "outputId": "cbe09141-f220-4ff9-8ea5-9f81a9ff09d1"
      },
      "execution_count": null,
      "outputs": [
        {
          "output_type": "stream",
          "name": "stdout",
          "text": [
            "Toplam kelime sayısı: 69\n",
            "En uzun kelime: reprehenderit\n",
            "En sık geçen kelime: in\n"
          ]
        }
      ]
    },
    {
      "cell_type": "code",
      "source": [
        "# Soru 6 – Gömülü Fonksiyonlar\n",
        "# Aşağıdaki liste için map, filter, sorted gibi gömülü fonksiyonları kullanarak:\n",
        "# sayilar = [5, 12, 7, 18, 24, 3, 16]\n",
        "# • Sadece çift sayıları filtreleyin.\n",
        "# • Bu sayıların karelerini bulun.\n",
        "# • Karelerini azalan sırada sıralayın.\n",
        "\n",
        "sayilar = [5, 12, 7, 18, 24, 3, 16]\n",
        "\n",
        "cift_sayılar=list(filter(lambda x: x % 2 == 0, sayilar))\n",
        "print(cift_sayılar)\n",
        "\n",
        "kareler=list(map(lambda x: x**2, cift_sayılar))\n",
        "print(kareler)\n",
        "\n",
        "kareler.sort(reverse=True)\n",
        "print(kareler)"
      ],
      "metadata": {
        "colab": {
          "base_uri": "https://localhost:8080/"
        },
        "id": "k33FESHtF2tQ",
        "outputId": "6b28c1c0-f898-4537-ae9c-f746aa0d4427"
      },
      "execution_count": null,
      "outputs": [
        {
          "output_type": "stream",
          "name": "stdout",
          "text": [
            "[12, 18, 24, 16]\n",
            "[144, 324, 576, 256]\n",
            "[576, 324, 256, 144]\n"
          ]
        }
      ]
    },
    {
      "cell_type": "code",
      "source": [
        "# Soru 7 – Lambda İfadeleri\n",
        "# Aşağıdaki listeyi, her kelimenin uzunluğuna göre küçükten büyüğe sıralayın.\n",
        "# kelimeler = [\"veri\", \"bilim\", \"analiz\", \"yapayzeka\", \"python\"]\n",
        "# Bunu sorted + lambda ile yapın.\n",
        "\n",
        "kelimeler = [\"veri\", \"bilim\", \"analiz\", \"yapayzeka\", \"python\"]\n",
        "\n",
        "kelime_uzunluk=sorted(kelimeler, key=lambda x: len(x))\n",
        "print(kelime_uzunluk)"
      ],
      "metadata": {
        "colab": {
          "base_uri": "https://localhost:8080/"
        },
        "id": "wuDxud3LHA9x",
        "outputId": "24fa3d99-622b-4a85-c58a-13cacdb2d14b"
      },
      "execution_count": null,
      "outputs": [
        {
          "output_type": "stream",
          "name": "stdout",
          "text": [
            "['veri', 'bilim', 'analiz', 'python', 'yapayzeka']\n"
          ]
        }
      ]
    },
    {
      "cell_type": "code",
      "source": [
        "# Soru 8 – Metodlar\n",
        "# Bir string içinde geçen tüm rakamları bulun ve bunların toplamını döndüren bir fonksiyon\n",
        "# yazın.\n",
        "# Örn: \"abc12def3\" → 12 + 3 = 15\n",
        "\n",
        "import re\n",
        "\n",
        "metin=\"hjujkıklo52ko9gfyfgcxfr7gyufyf8956huhıhjjohf14\"\n",
        "\n",
        "# Find all sequences of one or more digits\n",
        "sayilar = [int(s) for s in re.findall(r'\\d+', metin)]\n",
        "print(sayilar)\n",
        "print(sum(sayilar))"
      ],
      "metadata": {
        "colab": {
          "base_uri": "https://localhost:8080/"
        },
        "id": "ODcL77GWHaMu",
        "outputId": "3255dad1-4afa-4a60-db4b-3f994a268759"
      },
      "execution_count": null,
      "outputs": [
        {
          "output_type": "stream",
          "name": "stdout",
          "text": [
            "[52, 9, 7, 8956, 14]\n",
            "9038\n"
          ]
        }
      ]
    },
    {
      "cell_type": "code",
      "source": [
        "# Soru 9 – (Ekstra) Numpy 1\n",
        "# 10 elemanlı bir numpy dizisi oluşturun.\n",
        "# • Elemanlar 0–50 arasında rastgele sayılar olsun.\n",
        "# • Dizinin ortalamasını, standart sapmasını ve en büyük değerini bulun.\n",
        "\n",
        "\n",
        "from array import array\n",
        "import numpy as np\n",
        "\n",
        "# Create a 10-element numpy array with random integers between 0 and 50\n",
        "dizi = np.random.randint(0, 51, 10)\n",
        "print(\"Numpy dizisi:\", dizi)\n",
        "\n",
        "# Calculate the mean, standard deviation, and maximum value\n",
        "ortalama = np.mean(dizi)\n",
        "standart_sapma = np.std(dizi)\n",
        "en_buyuk_deger = np.max(dizi)\n",
        "\n",
        "print(\"Ortalama:\", ortalama)\n",
        "print(\"Standart Sapma:\", standart_sapma)\n",
        "print(\"En Büyük Değer:\", en_buyuk_deger)"
      ],
      "metadata": {
        "colab": {
          "base_uri": "https://localhost:8080/"
        },
        "id": "Tc2ednCyH7bd",
        "outputId": "d9a34b3c-61a3-4a7f-93c9-62537a5b2a04"
      },
      "execution_count": null,
      "outputs": [
        {
          "output_type": "stream",
          "name": "stdout",
          "text": [
            "Numpy dizisi: [13 33 41 20  1 23  4 18 21 15]\n",
            "Ortalama: 18.9\n",
            "Standart Sapma: 11.414464507807628\n",
            "En Büyük Değer: 41\n"
          ]
        }
      ]
    },
    {
      "cell_type": "code",
      "source": [
        "# Soru 10 – (Ekstra) Numpy 2\n",
        "# 5x5 boyutunda rastgele 0–1 arasında değerlerden oluşan bir numpy matrisi üretin.\n",
        "# • Her sütunun ortalamasını bulun.\n",
        "# • 0.5’ten büyük olan değerleri 1, küçük eşit olanları 0 yaparak binary matris oluşturun.\n",
        "\n",
        "\n",
        "import numpy as np\n",
        "\n",
        "# Create a 5x5 matrix with random values between 0 and 1\n",
        "matris = np.random.rand(5, 5)\n",
        "print(\"Rastgele Matris:\")\n",
        "print(matris)\n",
        "\n",
        "ortalamalar = np.mean(matris, axis=0)\n",
        "print(\"Her Sütunun Ortalaması:\")\n",
        "print(ortalamalar)\n",
        "\n",
        "binary_matris = np.where(matris > 0.5, 1, 0)\n",
        "print(\"Binary Matris:\")\n",
        "print(binary_matris)\n",
        "\n"
      ],
      "metadata": {
        "colab": {
          "base_uri": "https://localhost:8080/"
        },
        "id": "HI3hFnCQJQBV",
        "outputId": "4eb7602b-46fb-43c6-e498-d7a23e1a64bd"
      },
      "execution_count": null,
      "outputs": [
        {
          "output_type": "stream",
          "name": "stdout",
          "text": [
            "Rastgele Matris:\n",
            "[[0.80696429 0.37662358 0.6670982  0.81208442 0.47850417]\n",
            " [0.63806201 0.07243193 0.43763979 0.89071259 0.31519911]\n",
            " [0.18637891 0.25694136 0.95874356 0.548695   0.95526475]\n",
            " [0.56378848 0.85336867 0.70322665 0.77805047 0.17894649]\n",
            " [0.87974156 0.70523676 0.05357106 0.14358361 0.62510582]]\n",
            "Her Sütunun Ortalaması:\n",
            "[0.61498705 0.45292046 0.56405585 0.63462522 0.51060407]\n",
            "Binary Matris:\n",
            "[[1 0 1 1 0]\n",
            " [1 0 0 1 0]\n",
            " [0 0 1 1 1]\n",
            " [1 1 1 1 0]\n",
            " [1 1 0 0 1]]\n"
          ]
        }
      ]
    },
    {
      "cell_type": "code",
      "source": [
        "# Proje – “Kitap Satış Analiz Sistemi”\n",
        "# Bir yayınevinin farklı türlerde ve yazarlarda kitapları var. Örnek veri:\n",
        "kitaplar = [\n",
        " {\"isim\": \"Veri Bilimi 101\", \"yazar\": \"Ali\", \"tur\": \"Bilim\", \"satis\": 1200, \"yil\": 2021},\n",
        " {\"isim\": \"Python ile Yapay Zeka\", \"yazar\": \"Ayşe\", \"tur\": \"Bilim\", \"satis\": 950, \"yil\":2020},\n",
        " {\"isim\": \"İstatistik Temelleri\", \"yazar\": \"Ali\", \"tur\": \"Akademik\", \"satis\": 700, \"yil\": 2019},\n",
        " {\"isim\": \"Makine Öğrenmesi\", \"yazar\": \"Can\", \"tur\": \"Bilim\", \"satis\": 1800, \"yil\": 2022},\n",
        " {\"isim\": \"Veri Görselleştirme\", \"yazar\": \"Deniz\", \"tur\": \"Sanat\", \"satis\": 400, \"yil\": 2018},\n",
        " {\"isim\": \"Matematiksel Modelleme\", \"yazar\": \"Ali\", \"tur\": \"Akademik\", \"satis\": 1500,\"yil\": 2021},\n",
        " {\"isim\": \"Bilgi Toplumu\", \"yazar\": \"Ayşe\", \"tur\": \"Sosyal\", \"satis\": 600, \"yil\": 2022}]"
      ],
      "metadata": {
        "id": "QdsdiJ3QJyMM"
      },
      "execution_count": null,
      "outputs": []
    },
    {
      "cell_type": "code",
      "source": [
        "# 1. Fonksiyon Yazma:\n",
        "#o en_cok_satan(kitaplar) → En çok satan kitabın bilgilerini döndürsün.\n",
        "#o yazar_satislari(kitaplar) → Her yazarın toplam satışını bir sözlük olarak\n",
        "#döndürsün.\n",
        "\n",
        "def en_cok_satan(kitaplar):\n",
        "  en_cok_satan_kitap = max(kitaplar, key=lambda x: x[\"satis\"])\n",
        "  return en_cok_satan_kitap\n",
        "\n",
        "\n",
        "def yazar_satislari(kitaplar):\n",
        "  yazar_satislari_dict = {}\n",
        "  for kitap in kitaplar:\n",
        "    yazar = kitap[\"yazar\"]\n",
        "    satis = kitap[\"satis\"]\n",
        "    if yazar in yazar_satislari_dict:\n",
        "      yazar_satislari_dict[yazar] += satis\n",
        "    else:\n",
        "      yazar_satislari_dict[yazar] = satis\n",
        "  return yazar_satislari_dict\n",
        "\n",
        "print(\"En çok satan kitap:\", en_cok_satan(kitaplar))\n",
        "print(\"Yazar satışları:\", yazar_satislari(kitaplar))"
      ],
      "metadata": {
        "colab": {
          "base_uri": "https://localhost:8080/"
        },
        "id": "ZNsc6ubJLAaj",
        "outputId": "4e4061c1-e8b6-4de6-ba37-6976bdb2b5d6"
      },
      "execution_count": null,
      "outputs": [
        {
          "output_type": "stream",
          "name": "stdout",
          "text": [
            "En çok satan kitap: {'isim': 'Makine Öğrenmesi', 'yazar': 'Can', 'tur': 'Bilim', 'satis': 1800, 'yil': 2022}\n",
            "Yazar satışları: {'Ali': 3400, 'Ayşe': 1550, 'Can': 1800, 'Deniz': 400}\n"
          ]
        }
      ]
    },
    {
      "cell_type": "code",
      "source": [
        "# 2. Liste ve Küme İşlemleri:\n",
        "# o Tüm kitap türlerini (tur) küme halinde çıkarın (tekrar eden türler olmadan).\n",
        "# o Satış adedi 1000’den fazla olan kitapların isimlerini bir listede toplayın.\n",
        "\n",
        "def kitap_tur(kitaplar):\n",
        "  turler=set()\n",
        "  for kitap in kitaplar:\n",
        "    turler.add(kitap[\"tur\"])\n",
        "  print(\"Tüm kitap türleri:\", turler)\n",
        "\n",
        "  kitap_isimleri_bin_ustu = []\n",
        "  for kitap in kitaplar:\n",
        "    if kitap[\"satis\"] > 1000:\n",
        "      kitap_isimleri_bin_ustu.append(kitap[\"isim\"])\n",
        "      print(f\"Kitap Adı: {kitap['isim']}, Satış Adedi: {kitap['satis']}\") # Corrected print statement\n",
        "\n",
        "  print(\"Satış adedi 1000'den fazla olan kitap isimleri:\", kitap_isimleri_bin_ustu)\n",
        "\n",
        "\n",
        "kitap_tur(kitaplar)"
      ],
      "metadata": {
        "colab": {
          "base_uri": "https://localhost:8080/"
        },
        "id": "VafB2JeALbHf",
        "outputId": "809533ba-e17f-49bc-e351-12628ecc553f"
      },
      "execution_count": null,
      "outputs": [
        {
          "output_type": "stream",
          "name": "stdout",
          "text": [
            "Tüm kitap türleri: {'Sanat', 'Sosyal', 'Bilim', 'Akademik'}\n",
            "Kitap Adı: Veri Bilimi 101, Satış Adedi: 1200\n",
            "Kitap Adı: Makine Öğrenmesi, Satış Adedi: 1800\n",
            "Kitap Adı: Matematiksel Modelleme, Satış Adedi: 1500\n",
            "Satış adedi 1000'den fazla olan kitap isimleri: ['Veri Bilimi 101', 'Makine Öğrenmesi', 'Matematiksel Modelleme']\n"
          ]
        }
      ]
    },
    {
      "cell_type": "code",
      "source": [
        "# 3. Lambda / Filter / Map Kullanımı:\n",
        "# o filter ile 2020’den sonra çıkan kitapları süzün.\n",
        "# o map ile tüm satış adetlerini %10 artırılmış şekilde yeni bir listeye aktarın.\n",
        "# o sorted + lambda ile kitapları satış miktarına göre azalan şekilde sıralayın.\n",
        "\n",
        "kitaplar_2020_sonrası = list(filter(lambda x: x[\"yil\"] >= 2020, kitaplar))\n",
        "artirilmis_satislar = list(map(lambda x: x[\"satis\"] * 1.1, kitaplar))\n",
        "kitaplar_satista_sirali = sorted(kitaplar, key=lambda x: x[\"satis\"], reverse=True)\n",
        "print(\"2020'den Sonra Çıkan Kitaplar:\", kitaplar_2020_sonrası)\n",
        "print(\"Artırılmış Satışlar:\", artirilmis_satislar)\n",
        "print(\"Sıralanmış Kitaplar (Satista Sirali):\", kitaplar_satista_sirali)\n"
      ],
      "metadata": {
        "id": "fYzvqbQjNkYL",
        "colab": {
          "base_uri": "https://localhost:8080/"
        },
        "outputId": "bd9dd18e-7020-4768-80d4-109fb5302942"
      },
      "execution_count": 9,
      "outputs": [
        {
          "output_type": "stream",
          "name": "stdout",
          "text": [
            "2020'den Sonra Çıkan Kitaplar: [{'isim': 'Veri Bilimi 101', 'yazar': 'Ali', 'tur': 'Bilim', 'satis': 1200, 'yil': 2021}, {'isim': 'Python ile Yapay Zeka', 'yazar': 'Ayşe', 'tur': 'Bilim', 'satis': 950, 'yil': 2020}, {'isim': 'Makine Öğrenmesi', 'yazar': 'Can', 'tur': 'Bilim', 'satis': 1800, 'yil': 2022}, {'isim': 'Matematiksel Modelleme', 'yazar': 'Ali', 'tur': 'Akademik', 'satis': 1500, 'yil': 2021}, {'isim': 'Bilgi Toplumu', 'yazar': 'Ayşe', 'tur': 'Sosyal', 'satis': 600, 'yil': 2022}]\n",
            "Artırılmış Satışlar: [1320.0, 1045.0, 770.0000000000001, 1980.0000000000002, 440.00000000000006, 1650.0000000000002, 660.0]\n",
            "Sıralanmış Kitaplar (Satista Sirali): [{'isim': 'Makine Öğrenmesi', 'yazar': 'Can', 'tur': 'Bilim', 'satis': 1800, 'yil': 2022}, {'isim': 'Matematiksel Modelleme', 'yazar': 'Ali', 'tur': 'Akademik', 'satis': 1500, 'yil': 2021}, {'isim': 'Veri Bilimi 101', 'yazar': 'Ali', 'tur': 'Bilim', 'satis': 1200, 'yil': 2021}, {'isim': 'Python ile Yapay Zeka', 'yazar': 'Ayşe', 'tur': 'Bilim', 'satis': 950, 'yil': 2020}, {'isim': 'İstatistik Temelleri', 'yazar': 'Ali', 'tur': 'Akademik', 'satis': 700, 'yil': 2019}, {'isim': 'Bilgi Toplumu', 'yazar': 'Ayşe', 'tur': 'Sosyal', 'satis': 600, 'yil': 2022}, {'isim': 'Veri Görselleştirme', 'yazar': 'Deniz', 'tur': 'Sanat', 'satis': 400, 'yil': 2018}]\n"
          ]
        }
      ]
    },
    {
      "cell_type": "code",
      "source": [
        "# 4. İstatistiksel Analiz:\n",
        "# o Ortalama satış adedini bulun.\n",
        "# o En çok satış yapan türü bulun.\n",
        "# o Satışların standart sapmasını hesaplamak için statistics modülünü kullanın\n",
        "\n",
        "import statistics\n",
        "\n",
        "ortalama_satis = statistics.mean([kitap[\"satis\"] for kitap in kitaplar])\n",
        "en_cok_satan_tur= max(set([kitap[\"tur\"] for kitap in kitaplar]), key=lambda tur: sum([kitap[\"satis\"] for kitap in kitaplar if kitap[\"tur\"] == tur]))\n",
        "satis_sapmasi=statistics.stdev([kitap[\"satis\"] for kitap in kitaplar])\n",
        "print(\"Ortalama Satış Adedi:\", ortalama_satis)\n",
        "print(\"En Çok Satan Tür:\", en_cok_satan_tur)\n",
        "print(\"Satışların Standart Sapması:\", satis_sapmasi)"
      ],
      "metadata": {
        "colab": {
          "base_uri": "https://localhost:8080/"
        },
        "id": "Tnvuxgun1FuV",
        "outputId": "bcfff3c7-d5d5-4e7a-e52c-a911b5ee09de"
      },
      "execution_count": 5,
      "outputs": [
        {
          "output_type": "stream",
          "name": "stdout",
          "text": [
            "Ortalama Satış Adedi: 1021.4285714285714\n",
            "En Çok Satan Tür: Bilim\n",
            "Satışların Standart Sapması: 506.5053001179939\n"
          ]
        }
      ]
    },
    {
      "cell_type": "code",
      "source": [
        "# 5. Ekstra (Zorlayıcı): Train/Test Simülasyonu\n",
        "# o Kitap listesini rastgele %70 eğitim (train), %30 test verisine ayırın\n",
        "# (random.sample).\n",
        "# o Eğitim verisinden yazarların ortalama satışını hesaplayın.\n",
        "# o Test verisinde, hangi kitapların satışlarının bu ortalamanın üzerinde olduğunu\n",
        "# kontrol edin.\n",
        "\n",
        "import random\n",
        "\n",
        "\n",
        "# Kitap listesini rastgele %70 eğitim (train), %30 test verisine ayırın\n",
        "train_size = int(len(kitaplar) * 0.7)\n",
        "train_data = random.sample(kitaplar, train_size)\n",
        "test_data = [kitap for kitap in kitaplar if kitap not in train_data]\n",
        "\n",
        "print(\"Eğitim Verisi:\")\n",
        "print(train_data)\n",
        "print(\"\\nTest Verisi:\")\n",
        "print(test_data)\n",
        "\n",
        "# Eğitim verisinden yazarların ortalama satışını hesaplayın.\n",
        "yazar_satis_toplam = {}\n",
        "yazar_kitap_sayisi = {}\n",
        "\n",
        "for kitap in train_data:\n",
        "    yazar = kitap[\"yazar\"]\n",
        "    satis = kitap[\"satis\"]\n",
        "    if yazar in yazar_satis_toplam:\n",
        "        yazar_satis_toplam[yazar] += satis\n",
        "        yazar_kitap_sayisi[yazar] += 1\n",
        "    else:\n",
        "        yazar_satis_toplam[yazar] = satis\n",
        "        yazar_kitap_sayisi[yazar] = 1\n",
        "\n",
        "yazar_ortalama_satis = {yazar: yazar_satis_toplam[yazar] / yazar_kitap_sayisi[yazar] for yazar in yazar_satis_toplam}\n",
        "\n",
        "print(\"\\nEğitim Verisinden Yazar Ortalama Satışları:\")\n",
        "print(yazar_ortalama_satis)\n",
        "\n",
        "# Test verisinde, hangi kitapların satışlarının bu ortalamanın üzerinde olduğunu kontrol edin.\n",
        "print(\"\\nTest Verisindeki Kitapların Ortalama Üzerinde Satışları:\")\n",
        "for kitap in test_data:\n",
        "    yazar = kitap[\"yazar\"]\n",
        "    satis = kitap[\"satis\"]\n",
        "    if yazar in yazar_ortalama_satis and satis > yazar_ortalama_satis[yazar]:\n",
        "        print(f\"{kitap['isim']} (Yazar: {yazar}): Satış ({satis}) ortalama ({yazar_ortalama_satis[yazar]:.2f}) üzerinde.\")\n",
        "    elif yazar in yazar_ortalama_satis:\n",
        "         print(f\"{kitap['isim']} (Yazar: {yazar}): Satış ({satis}) ortalama ({yazar_ortalama_satis[yazar]:.2f}) altında veya eşit.\")\n",
        "    else:\n",
        "        print(f\"{kitap['isim']} (Yazar: {yazar}): Eğitim verisinde yazar bilgisi bulunamadı.\")\n",
        "\n"
      ],
      "metadata": {
        "colab": {
          "base_uri": "https://localhost:8080/"
        },
        "id": "pim0T3gL1xWE",
        "outputId": "46ae1257-dd46-4673-fa1e-5f43839ebbbd"
      },
      "execution_count": 7,
      "outputs": [
        {
          "output_type": "stream",
          "name": "stdout",
          "text": [
            "Eğitim Verisi:\n",
            "[{'isim': 'Makine Öğrenmesi', 'yazar': 'Can', 'tur': 'Bilim', 'satis': 1800, 'yil': 2022}, {'isim': 'Bilgi Toplumu', 'yazar': 'Ayşe', 'tur': 'Sosyal', 'satis': 600, 'yil': 2022}, {'isim': 'Veri Görselleştirme', 'yazar': 'Deniz', 'tur': 'Sanat', 'satis': 400, 'yil': 2018}, {'isim': 'İstatistik Temelleri', 'yazar': 'Ali', 'tur': 'Akademik', 'satis': 700, 'yil': 2019}]\n",
            "\n",
            "Test Verisi:\n",
            "[{'isim': 'Veri Bilimi 101', 'yazar': 'Ali', 'tur': 'Bilim', 'satis': 1200, 'yil': 2021}, {'isim': 'Python ile Yapay Zeka', 'yazar': 'Ayşe', 'tur': 'Bilim', 'satis': 950, 'yil': 2020}, {'isim': 'Matematiksel Modelleme', 'yazar': 'Ali', 'tur': 'Akademik', 'satis': 1500, 'yil': 2021}]\n",
            "\n",
            "Eğitim Verisinden Yazar Ortalama Satışları:\n",
            "{'Can': 1800.0, 'Ayşe': 600.0, 'Deniz': 400.0, 'Ali': 700.0}\n",
            "\n",
            "Test Verisindeki Kitapların Ortalama Üzerinde Satışları:\n",
            "Veri Bilimi 101 (Yazar: Ali): Satış (1200) ortalama (700.00) üzerinde.\n",
            "Python ile Yapay Zeka (Yazar: Ayşe): Satış (950) ortalama (600.00) üzerinde.\n",
            "Matematiksel Modelleme (Yazar: Ali): Satış (1500) ortalama (700.00) üzerinde.\n"
          ]
        }
      ]
    },
    {
      "cell_type": "code",
      "source": [],
      "metadata": {
        "id": "_-_f5oF42bsC"
      },
      "execution_count": null,
      "outputs": []
    }
  ]
}