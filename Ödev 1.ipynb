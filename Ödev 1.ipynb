{
 "cells": [
  {
   "cell_type": "code",
   "execution_count": 5,
   "id": "faefb4a7-517c-42df-86b7-ba5606392008",
   "metadata": {},
   "outputs": [
    {
     "name": "stdin",
     "output_type": "stream",
     "text": [
      "Lütfen İsminizi Girin: emre\n",
      "Lütfen Yaşınızı Girin: 85\n",
      "Lütfen Boyunuzu metre Cinsinden Girin: 1.85\n"
     ]
    },
    {
     "name": "stdout",
     "output_type": "stream",
     "text": [
      "Ad:emre , Yaş:85 , Boy: 1.85\n"
     ]
    }
   ],
   "source": [
    "#Bölüm 1\n",
    "\n",
    "#1. Kullanıcıdan adını, yaşını ve boyunu (float) input() ile alınız. Bu bilgileri uygun veri\n",
    "# tiplerinde değişkenlerde saklayınız ve ekrana anlamlı bir şekilde yazdırınız\n",
    "\n",
    "ad =input(\"Lütfen İsminizi Girin:\")\n",
    "yas=int(input(\"Lütfen Yaşınızı Girin:\"))\n",
    "boy=float(input(\"Lütfen Boyunuzu metre Cinsinden Girin:\"))\n",
    "\n",
    "print(\"Ad:{} , Yaş:{} , Boy: {}\".format(ad,yas,boy))"
   ]
  },
  {
   "cell_type": "code",
   "execution_count": 11,
   "id": "49411357-30f1-4f74-82ba-4e65b09f1476",
   "metadata": {},
   "outputs": [
    {
     "name": "stdin",
     "output_type": "stream",
     "text": [
      "Matematik Notunuzu Girin: 12\n",
      "Fizik Notunuzu Girin: 36\n",
      "Kimya Notunuzu Girin: 45\n"
     ]
    },
    {
     "name": "stdout",
     "output_type": "stream",
     "text": [
      " Matematik Notunuz:12\n",
      " Fizik Notunuz:36\n",
      " Kimya Notunuz:45\n",
      " Ortalamanız:31.0 \n"
     ]
    }
   ],
   "source": [
    "#2. Bir öğrencinin notlarını (Matematik, Fizik, Kimya) int tipinde değişkenlere atayın.\n",
    "#Ortalamasını float tipinde hesaplayıp ekrana yazdırınız.\n",
    "\n",
    "ders1=int(input(\"Matematik Notunuzu Girin:\"))\n",
    "ders2=int(input(\"Fizik Notunuzu Girin:\"))\n",
    "ders3=int(input(\"Kimya Notunuzu Girin:\"))\n",
    "\n",
    "ortalama=(ders1+ders2+ders3)/3\n",
    "\n",
    "print(\" Matematik Notunuz:{}\\n Fizik Notunuz:{}\\n Kimya Notunuz:{}\\n Ortalamanız:{} \".format(ders1,ders2,ders3,ortalama))"
   ]
  },
  {
   "cell_type": "code",
   "execution_count": 19,
   "id": "4ea80b3f-9099-4b53-be47-d2373c3f9533",
   "metadata": {},
   "outputs": [
    {
     "name": "stdout",
     "output_type": "stream",
     "text": [
      "R A\n",
      "10\n",
      "AVLİS AFAR\n"
     ]
    }
   ],
   "source": [
    "#3. Bir string değişkeni tanımlayın. Bu stringin ilk ve son karakterini, uzunluğunu ve ters\n",
    "#çevrilmiş halini ekrana yazdırınız\n",
    "\n",
    "degisken=\"RAFA SİLVA\"\n",
    "\n",
    "print(degisken[0],degisken[-1])\n",
    "print(len(degisken))\n",
    "print(degisken[::-1])"
   ]
  },
  {
   "cell_type": "code",
   "execution_count": 21,
   "id": "45a4d631-d663-4b69-a812-af93bd36e474",
   "metadata": {},
   "outputs": [
    {
     "name": "stdin",
     "output_type": "stream",
     "text": [
      "Bir sayı giriniz: 12\n",
      "Bir sayı giriniz: 3\n"
     ]
    },
    {
     "name": "stdout",
     "output_type": "stream",
     "text": [
      " Toplam:15 \n",
      " Fark:9 \n",
      " Çarpım:36 \n",
      " Mod:0 \n"
     ]
    }
   ],
   "source": [
    "#Bölüm 2: Operatörler\n",
    "# 4. Kullanıcıdan iki sayı alınız. Bu sayılar üzerinde toplama, çıkarma, çarpma, bölme ve mod\n",
    "# işlemleri yapınız\n",
    "\n",
    "sayi1=int(input(\"Bir sayı giriniz:\"))\n",
    "sayi2=int(input(\"Bir sayı giriniz:\"))\n",
    "\n",
    "toplam=sayi1+sayi2\n",
    "cıkarma=sayi1-sayi2\n",
    "carpma=sayi1*sayi2\n",
    "mod=sayi1%sayi2\n",
    "\n",
    "print(\" Toplam:{} \\n Fark:{} \\n Çarpım:{} \\n Mod:{} \".format(toplam,cıkarma,carpma,mod))"
   ]
  },
  {
   "cell_type": "code",
   "execution_count": 29,
   "id": "3bd47509-d989-4dee-a55e-84cc9e7817f0",
   "metadata": {},
   "outputs": [
    {
     "name": "stdin",
     "output_type": "stream",
     "text": [
      "Ortalamanızı giriniz: 56\n"
     ]
    },
    {
     "name": "stdout",
     "output_type": "stream",
     "text": [
      "Geçti\n"
     ]
    }
   ],
   "source": [
    "#5. Bir öğrencinin ortalaması 50’den büyükse 'Geçti', değilse 'Kaldı' çıktısını veren bir\n",
    "# program yazınız. (Karşılaştırma ve mantıksal operatörler kullanılacak.)\n",
    "\n",
    "ortalama=int(input(\"Ortalamanızı giriniz:\"))\n",
    "\n",
    "final=(ortalama>50)*\"Geçti\" or \"Kaldı\"\n",
    "\n",
    "print(final)"
   ]
  },
  {
   "cell_type": "code",
   "execution_count": 31,
   "id": "3bd279f3-bd1b-4239-bb97-9b35187ecf4b",
   "metadata": {},
   "outputs": [
    {
     "name": "stdin",
     "output_type": "stream",
     "text": [
      "Lütfen Yaşınızı Giriniz: 17\n"
     ]
    },
    {
     "name": "stdout",
     "output_type": "stream",
     "text": [
      "Ehliyet Alamazsınız\n"
     ]
    }
   ],
   "source": [
    "#6. Kullanıcıdan yaşını alınız. Eğer yaş 18’den büyükse 'Ehliyet alabilirsiniz', değilse 'Ehliyet\n",
    "#alamazsınız' çıktısı veriniz.\n",
    "\n",
    "yas=int(input(\"Lütfen Yaşınızı Giriniz:\"))\n",
    "\n",
    "ehliyet=(yas>18)*\"Ehliyet Alabilirsiniz\" or \"Ehliyet Alamazsınız\"\n",
    "\n",
    "print(ehliyet)"
   ]
  },
  {
   "cell_type": "code",
   "execution_count": 36,
   "id": "8e044ad2-38c4-4a67-a630-be3150565f67",
   "metadata": {},
   "outputs": [
    {
     "name": "stdout",
     "output_type": "stream",
     "text": [
      "46.949999999999996\n"
     ]
    }
   ],
   "source": [
    "#7. Bir ürünün fiyatını (float) ve indirim oranını (yüzde) alınız. İndirimli fiyatı hesaplayıp\n",
    "# ekrana yazdırınız. (Aritmetik operatörler kullanılacak.)\n",
    "\n",
    "fiyat=78.25\n",
    "indirim=60/100\n",
    "\n",
    "indirimlifiyat=fiyat*indirim\n",
    "\n",
    "print(indirimlifiyat)"
   ]
  },
  {
   "cell_type": "code",
   "execution_count": 38,
   "id": "7151d343-0b44-40c2-a5b6-37e9ba397129",
   "metadata": {},
   "outputs": [
    {
     "name": "stdout",
     "output_type": "stream",
     "text": [
      "Yanlış\n",
      "True\n",
      "True\n"
     ]
    }
   ],
   "source": [
    "# 8. True ve False değerlerini içeren değişkenlerle mantıksal operatörleri (and, or, not)\n",
    "# uygulayarak örnekler yapınız ve sonuçlarını ekrana yazdırınız.\n",
    "\n",
    "print((65<43)*\"Doğru\"or \"Yanlış\")\n",
    "print(23>11 and 45<46)\n",
    "print(not 45<34)"
   ]
  },
  {
   "cell_type": "code",
   "execution_count": 2,
   "id": "5cc87a47-8454-4b79-824f-805d8d7ccc47",
   "metadata": {},
   "outputs": [
    {
     "name": "stdin",
     "output_type": "stream",
     "text": [
      "Aldığınız ilk ürünün fiyatını girin: 10\n",
      "Aldığınız ikinci ürünün fiyatını girin: 30\n",
      "Aldığınız üçüncü ürünün fiyatını girin: 65\n"
     ]
    },
    {
     "name": "stdout",
     "output_type": "stream",
     "text": [
      "105.0\n"
     ]
    }
   ],
   "source": [
    "# Bölüm 3: Mini Proje\n",
    "# 9. Küçük bir alışveriş sepeti uygulaması yapınız:\n",
    "#- Kullanıcıdan 3 ürünün fiyatını alınız.\n",
    "#- Toplam fiyatı hesaplayınız.\n",
    "#- Eğer toplam fiyat 200 TL’den fazlaysa %10 indirim uygulayınız.\n",
    "#- Son fiyatı ekrana yazdırınız\n",
    "\n",
    "urun1=float(input(\"Aldığınız ilk ürünün fiyatını girin:\"))\n",
    "urun2=float(input(\"Aldığınız ikinci ürünün fiyatını girin:\"))\n",
    "urun3=float(input(\"Aldığınız üçüncü ürünün fiyatını girin:\"))\n",
    "\n",
    "toplam=urun1+urun2+urun3\n",
    "\n",
    "print((toplam>200)*(toplam*0.6) or toplam)"
   ]
  },
  {
   "cell_type": "code",
   "execution_count": 10,
   "id": "6c057de3-324e-4769-ada6-d1238d85d2ad",
   "metadata": {},
   "outputs": [
    {
     "name": "stdin",
     "output_type": "stream",
     "text": [
      "Lütfen Doğum Yılınızı Giriniz: 2010\n"
     ]
    },
    {
     "name": "stdout",
     "output_type": "stream",
     "text": [
      "Ergensiniz\n"
     ]
    }
   ],
   "source": [
    "#10. Kullanıcıdan doğum yılını alınız. Bu yıl ile güncel yılı kullanarak yaşını hesaplayınız.\n",
    "# Yaşına göre şu mesajlardan birini veriniz:\n",
    "#- 0-12: 'Çocuksunuz'\n",
    "#- 13-17: 'Ergensiniz'\n",
    "#- 18 ve üzeri: 'Yetişkinsiniz'\n",
    "\n",
    "dogum=int(input(\"Lütfen Doğum Yılınızı Giriniz:\"))\n",
    "güncel_yıl=2025\n",
    "yas=güncel_yıl-dogum\n",
    "\n",
    "print((0 <= yas <= 12) * \"Çocuksunuz\"or (13 <= yas <= 17) * \"Ergensiniz\"or (yas >= 18) * \"Yetişkinsiniz\")\n"
   ]
  }
 ],
 "metadata": {
  "kernelspec": {
   "display_name": "Python [conda env:base] *",
   "language": "python",
   "name": "conda-base-py"
  },
  "language_info": {
   "codemirror_mode": {
    "name": "ipython",
    "version": 3
   },
   "file_extension": ".py",
   "mimetype": "text/x-python",
   "name": "python",
   "nbconvert_exporter": "python",
   "pygments_lexer": "ipython3",
   "version": "3.13.5"
  }
 },
 "nbformat": 4,
 "nbformat_minor": 5
}
